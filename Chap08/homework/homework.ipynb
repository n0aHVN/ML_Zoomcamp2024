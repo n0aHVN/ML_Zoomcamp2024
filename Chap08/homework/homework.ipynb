{
 "cells": [
  {
   "cell_type": "code",
   "execution_count": 27,
   "metadata": {
    "execution": {
     "iopub.execute_input": "2024-12-02T13:00:21.465480Z",
     "iopub.status.busy": "2024-12-02T13:00:21.464952Z",
     "iopub.status.idle": "2024-12-02T13:00:21.469881Z",
     "shell.execute_reply": "2024-12-02T13:00:21.469194Z",
     "shell.execute_reply.started": "2024-12-02T13:00:21.465417Z"
    },
    "tags": []
   },
   "outputs": [],
   "source": [
    "import numpy as np\n",
    "import tensorflow as tf\n",
    "\n",
    "from tensorflow import keras\n",
    "from tensorflow.keras import layers, models, losses, optimizers\n",
    "from tensorflow.keras.preprocessing.image import ImageDataGenerator\n",
    "SEED = 42\n",
    "np.random.seed(SEED)\n",
    "tf.random.set_seed(SEED)"
   ]
  },
  {
   "cell_type": "code",
   "execution_count": 28,
   "metadata": {
    "execution": {
     "iopub.execute_input": "2024-12-02T13:00:21.471911Z",
     "iopub.status.busy": "2024-12-02T13:00:21.471456Z",
     "iopub.status.idle": "2024-12-02T13:00:21.478415Z",
     "shell.execute_reply": "2024-12-02T13:00:21.477672Z",
     "shell.execute_reply.started": "2024-12-02T13:00:21.471878Z"
    }
   },
   "outputs": [],
   "source": [
    "def make_model(\n",
    "                filters = 32,\n",
    "                dense_inner_size = 64,\n",
    "                lr = 0.002,\n",
    "                momentum = 0.8,\n",
    "                loss = tf.keras.losses.BinaryCrossentropy()\n",
    "                ):\n",
    "    inputs = keras.Input(shape=(200, 200, 3))\n",
    "    \n",
    "    # Convolutional layers\n",
    "    cvl_layers = layers.Conv2D(filters=filters, kernel_size=(3, 3), activation='relu')(inputs)\n",
    "    feature_map = layers.MaxPooling2D(pool_size=(2, 2))(cvl_layers)\n",
    "    \n",
    "    # Flatten layer\n",
    "    vectors = layers.Flatten()(feature_map)\n",
    "    \n",
    "    # Dense layers\n",
    "    dense_layers = layers.Dense(dense_inner_size, activation='relu')(vectors)\n",
    "    \n",
    "    # Output layer for binary classification\n",
    "    outputs = layers.Dense(1, activation='sigmoid')(dense_layers)\n",
    "    \n",
    "    # Model construction\n",
    "    model = keras.Model(inputs, outputs)\n",
    "    \n",
    "    # Optimizer and compiling the model\n",
    "    optimizer = optimizers.SGD(learning_rate=lr, momentum=momentum)\n",
    "    model.compile(\n",
    "        optimizer=optimizer,\n",
    "        loss=loss,\n",
    "        metrics=['accuracy']\n",
    "    )\n",
    "    \n",
    "    return model"
   ]
  },
  {
   "cell_type": "code",
   "execution_count": 29,
   "metadata": {
    "execution": {
     "iopub.execute_input": "2024-12-02T13:00:21.479699Z",
     "iopub.status.busy": "2024-12-02T13:00:21.479408Z",
     "iopub.status.idle": "2024-12-02T13:00:21.512671Z",
     "shell.execute_reply": "2024-12-02T13:00:21.512144Z",
     "shell.execute_reply.started": "2024-12-02T13:00:21.479679Z"
    }
   },
   "outputs": [],
   "source": [
    "model = make_model()"
   ]
  },
  {
   "cell_type": "code",
   "execution_count": 30,
   "metadata": {
    "execution": {
     "iopub.execute_input": "2024-12-02T13:00:21.514740Z",
     "iopub.status.busy": "2024-12-02T13:00:21.514368Z",
     "iopub.status.idle": "2024-12-02T13:00:21.536314Z",
     "shell.execute_reply": "2024-12-02T13:00:21.535573Z",
     "shell.execute_reply.started": "2024-12-02T13:00:21.514710Z"
    },
    "tags": []
   },
   "outputs": [
    {
     "name": "stdout",
     "output_type": "stream",
     "text": [
      "Model: \"model_3\"\n",
      "_________________________________________________________________\n",
      " Layer (type)                Output Shape              Param #   \n",
      "=================================================================\n",
      " input_5 (InputLayer)        [(None, 200, 200, 3)]     0         \n",
      "                                                                 \n",
      " conv2d_6 (Conv2D)           (None, 198, 198, 32)      896       \n",
      "                                                                 \n",
      " max_pooling2d_6 (MaxPooling  (None, 99, 99, 32)       0         \n",
      " 2D)                                                             \n",
      "                                                                 \n",
      " flatten_6 (Flatten)         (None, 313632)            0         \n",
      "                                                                 \n",
      " dense_10 (Dense)            (None, 64)                20072512  \n",
      "                                                                 \n",
      " dense_11 (Dense)            (None, 1)                 65        \n",
      "                                                                 \n",
      "=================================================================\n",
      "Total params: 20,073,473\n",
      "Trainable params: 20,073,473\n",
      "Non-trainable params: 0\n",
      "_________________________________________________________________\n"
     ]
    }
   ],
   "source": [
    "model.summary()"
   ]
  },
  {
   "cell_type": "code",
   "execution_count": null,
   "metadata": {
    "execution": {
     "iopub.execute_input": "2024-12-02T13:00:21.537323Z",
     "iopub.status.busy": "2024-12-02T13:00:21.537128Z",
     "iopub.status.idle": "2024-12-02T13:00:21.572461Z",
     "shell.execute_reply": "2024-12-02T13:00:21.571885Z",
     "shell.execute_reply.started": "2024-12-02T13:00:21.537305Z"
    }
   },
   "outputs": [
    {
     "name": "stdout",
     "output_type": "stream",
     "text": [
      "Found 800 images belonging to 2 classes.\n",
      "Found 201 images belonging to 2 classes.\n"
     ]
    }
   ],
   "source": [
    "train_gen = ImageDataGenerator(rescale=1./255)\n",
    "\n",
    "\n",
    "train_ds = train_gen.flow_from_directory(\n",
    "    './data/train',\n",
    "    target_size=(200, 200), # Size of the image\n",
    "    class_mode = 'binary',\n",
    "    batch_size=20  # How many image at once we need\n",
    ")\n",
    "test_gen = ImageDataGenerator(rescale=1./255)\n",
    "test_ds = test_gen.flow_from_directory(\n",
    "    './data/test',\n",
    "    target_size=(200, 200), # Size of the image\n",
    "    class_mode = 'binary',\n",
    "    batch_size=20  # How many image at once we need\n",
    ")"
   ]
  },
  {
   "cell_type": "code",
   "execution_count": 37,
   "metadata": {
    "execution": {
     "iopub.execute_input": "2024-12-02T13:04:54.988470Z",
     "iopub.status.busy": "2024-12-02T13:04:54.988084Z",
     "iopub.status.idle": "2024-12-02T13:06:19.788534Z",
     "shell.execute_reply": "2024-12-02T13:06:19.787923Z",
     "shell.execute_reply.started": "2024-12-02T13:04:54.988447Z"
    },
    "tags": []
   },
   "outputs": [
    {
     "name": "stdout",
     "output_type": "stream",
     "text": [
      "Epoch 1/10\n",
      "40/40 [==============================] - 9s 217ms/step - loss: 0.6936 - accuracy: 0.5000 - val_loss: 0.6934 - val_accuracy: 0.5000\n",
      "Epoch 2/10\n",
      "40/40 [==============================] - 9s 212ms/step - loss: 0.6934 - accuracy: 0.5000 - val_loss: 0.6933 - val_accuracy: 0.5000\n",
      "Epoch 3/10\n",
      "40/40 [==============================] - 8s 210ms/step - loss: 0.6933 - accuracy: 0.5000 - val_loss: 0.6933 - val_accuracy: 0.5000\n",
      "Epoch 4/10\n",
      "40/40 [==============================] - 8s 208ms/step - loss: 0.6933 - accuracy: 0.5000 - val_loss: 0.6933 - val_accuracy: 0.5000\n",
      "Epoch 5/10\n",
      "40/40 [==============================] - 8s 207ms/step - loss: 0.6933 - accuracy: 0.5000 - val_loss: 0.6933 - val_accuracy: 0.5000\n",
      "Epoch 6/10\n",
      "40/40 [==============================] - 8s 207ms/step - loss: 0.6932 - accuracy: 0.5000 - val_loss: 0.6933 - val_accuracy: 0.5000\n",
      "Epoch 7/10\n",
      "40/40 [==============================] - 8s 214ms/step - loss: 0.6932 - accuracy: 0.5000 - val_loss: 0.6933 - val_accuracy: 0.5000\n",
      "Epoch 8/10\n",
      "40/40 [==============================] - 8s 209ms/step - loss: 0.6932 - accuracy: 0.5000 - val_loss: 0.6933 - val_accuracy: 0.5000\n",
      "Epoch 9/10\n",
      "40/40 [==============================] - 8s 207ms/step - loss: 0.6932 - accuracy: 0.5000 - val_loss: 0.6933 - val_accuracy: 0.5000\n",
      "Epoch 10/10\n",
      "40/40 [==============================] - 8s 211ms/step - loss: 0.6932 - accuracy: 0.5000 - val_loss: 0.6933 - val_accuracy: 0.5000\n"
     ]
    }
   ],
   "source": [
    "model = make_model()\n",
    "history = model.fit(\n",
    "    train_ds,\n",
    "    epochs=10,\n",
    "    validation_data=test_ds\n",
    ")"
   ]
  },
  {
   "cell_type": "code",
   "execution_count": 47,
   "metadata": {
    "execution": {
     "iopub.execute_input": "2024-12-02T13:10:36.716131Z",
     "iopub.status.busy": "2024-12-02T13:10:36.715733Z",
     "iopub.status.idle": "2024-12-02T13:10:36.721733Z",
     "shell.execute_reply": "2024-12-02T13:10:36.720795Z",
     "shell.execute_reply.started": "2024-12-02T13:10:36.716106Z"
    },
    "tags": []
   },
   "outputs": [
    {
     "data": {
      "text/plain": [
       "0.5"
      ]
     },
     "execution_count": 47,
     "metadata": {},
     "output_type": "execute_result"
    }
   ],
   "source": [
    "np.median(history.history['accuracy'])"
   ]
  },
  {
   "cell_type": "code",
   "execution_count": 48,
   "metadata": {
    "execution": {
     "iopub.execute_input": "2024-12-02T13:10:38.532196Z",
     "iopub.status.busy": "2024-12-02T13:10:38.531804Z",
     "iopub.status.idle": "2024-12-02T13:10:38.537314Z",
     "shell.execute_reply": "2024-12-02T13:10:38.536678Z",
     "shell.execute_reply.started": "2024-12-02T13:10:38.532171Z"
    },
    "tags": []
   },
   "outputs": [
    {
     "data": {
      "text/plain": [
       "0.00012044398942535301"
      ]
     },
     "execution_count": 48,
     "metadata": {},
     "output_type": "execute_result"
    }
   ],
   "source": [
    "np.std(history.history['loss'])\n"
   ]
  }
 ],
 "metadata": {
  "kernelspec": {
   "display_name": "saturn (Python 3)",
   "language": "python",
   "name": "python3"
  },
  "language_info": {
   "codemirror_mode": {
    "name": "ipython",
    "version": 3
   },
   "file_extension": ".py",
   "mimetype": "text/x-python",
   "name": "python",
   "nbconvert_exporter": "python",
   "pygments_lexer": "ipython3",
   "version": "3.9.13"
  }
 },
 "nbformat": 4,
 "nbformat_minor": 4
}
