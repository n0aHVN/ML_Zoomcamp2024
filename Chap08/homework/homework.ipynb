{
 "cells": [
  {
   "cell_type": "code",
   "execution_count": 6,
   "metadata": {},
   "outputs": [],
   "source": [
    "import numpy as np\n",
    "import tensorflow as tf\n",
    "\n",
    "from tensorflow import keras\n",
    "from tensorflow.keras.applications.xception import preprocess_input\n",
    "from tensorflow.keras.applications.xception import decode_predictions\n",
    "from tensorflow.keras.preprocessing.image import ImageDataGenerator\n",
    "from tensorflow.keras.layers import Conv2D, MaxPooling2D, Flatten\n",
    "from tensorflow.keras.optimizers import SGD\n",
    "SEED = 42\n",
    "np.random.seed(SEED)\n",
    "tf.random.set_seed(SEED)"
   ]
  },
  {
   "cell_type": "code",
   "execution_count": null,
   "metadata": {},
   "outputs": [],
   "source": [
    "train_gen = ImageDataGenerator(\n",
    "    preprocessing_function=preprocess_input\n",
    ")\n",
    "\n",
    "train_ds = train_gen.flow_from_directory(\n",
    "    './data/train/',\n",
    "    target_size=(150, 150), # Size of the image\n",
    "    batch_size=32  # How many image at once we need\n",
    ")\n",
    "\n",
    "test_gen = ImageDataGenerator(preprocessing_function=preprocess_input)\n",
    "\n",
    "test_ds = test_gen.flow_from_directory(\n",
    "    './data/train/',\n",
    "    target_size=(150, 150), # Size of the image\n",
    "    batch_size=32  # How many image at once we need\n",
    ")"
   ]
  },
  {
   "cell_type": "code",
   "execution_count": 7,
   "metadata": {},
   "outputs": [],
   "source": [
    "def make_model(\n",
    "                filters = 32,\n",
    "                dense_inner_size = 64,\n",
    "                lr = 0.002,\n",
    "                momentum = 0.8,\n",
    "                metrics = ['accuracy'],\n",
    "                loss = 'mean squared error'\n",
    "                ):\n",
    "    inputs = keras.Input(shape=(200,200,3))\n",
    "    cvl_layers = Conv2D(filters=filters, kernel_size=(3,3),activation='relu')(inputs)\n",
    "    feature_map = keras.layers.MaxPooling2D(pool_size=(2,2))(cvl_layers)\n",
    "    vectors = Flatten()(feature_map)\n",
    "    dense_layers = keras.layers.Dense(dense_inner_size, activation='relu')(vectors)\n",
    "    output = keras.layers.Dense(1)(dense_layers)\n",
    "    model = keras.Model(inputs,outputs)\n",
    "    optimizer = SGD(lr=lr, momentum=momentum)\n",
    "    model.compile(\n",
    "            optimizer=optimizer,\n",
    "            loss=loss,\n",
    "            metrics=['accuracy']\n",
    "    )\n",
    "    return model\n"
   ]
  },
  {
   "cell_type": "code",
   "execution_count": null,
   "metadata": {},
   "outputs": [],
   "source": [
    "scores = {}\n",
    "\n",
    "for loss in ['mean squared error',\n",
    "            'binary crossentropy',\n",
    "            'categorical crossentropy',\n",
    "            'cosine similarity']:\n",
    "    model = make_model(loss=loss)\n",
    "    history = model.fit(train_ds, epochs=10, validation_data=val_ds)\n",
    "    scores[loss] = history.history\n",
    "    print()\n",
    "    print()\n",
    "\n"
   ]
  },
  {
   "cell_type": "code",
   "execution_count": null,
   "metadata": {},
   "outputs": [],
   "source": []
  }
 ],
 "metadata": {
  "kernelspec": {
   "display_name": "py311",
   "language": "python",
   "name": "python3"
  },
  "language_info": {
   "codemirror_mode": {
    "name": "ipython",
    "version": 3
   },
   "file_extension": ".py",
   "mimetype": "text/x-python",
   "name": "python",
   "nbconvert_exporter": "python",
   "pygments_lexer": "ipython3",
   "version": "3.11.9"
  }
 },
 "nbformat": 4,
 "nbformat_minor": 2
}
