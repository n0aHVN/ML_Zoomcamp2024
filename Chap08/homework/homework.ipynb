{
 "cells": [
  {
   "cell_type": "code",
   "execution_count": 56,
   "metadata": {
    "execution": {
     "iopub.execute_input": "2024-12-02T13:15:20.627703Z",
     "iopub.status.busy": "2024-12-02T13:15:20.627382Z",
     "iopub.status.idle": "2024-12-02T13:15:20.634310Z",
     "shell.execute_reply": "2024-12-02T13:15:20.633528Z",
     "shell.execute_reply.started": "2024-12-02T13:15:20.627678Z"
    },
    "tags": []
   },
   "outputs": [],
   "source": [
    "import numpy as np\n",
    "import tensorflow as tf\n",
    "\n",
    "from tensorflow import keras\n",
    "from tensorflow.keras import layers, models, losses, optimizers\n",
    "from tensorflow.keras.preprocessing.image import ImageDataGenerator\n",
    "SEED = 42\n",
    "np.random.seed(SEED)\n",
    "tf.random.set_seed(SEED)"
   ]
  },
  {
   "cell_type": "code",
   "execution_count": 57,
   "metadata": {
    "execution": {
     "iopub.execute_input": "2024-12-02T13:15:20.637930Z",
     "iopub.status.busy": "2024-12-02T13:15:20.637608Z",
     "iopub.status.idle": "2024-12-02T13:15:20.644044Z",
     "shell.execute_reply": "2024-12-02T13:15:20.643242Z",
     "shell.execute_reply.started": "2024-12-02T13:15:20.637901Z"
    }
   },
   "outputs": [],
   "source": [
    "def make_model(\n",
    "                filters = 32,\n",
    "                dense_inner_size = 64,\n",
    "                lr = 0.002,\n",
    "                momentum = 0.8,\n",
    "                loss = tf.keras.losses.BinaryCrossentropy()\n",
    "                ):\n",
    "    inputs = keras.Input(shape=(200, 200, 3))\n",
    "    \n",
    "    # Convolutional layers\n",
    "    cvl_layers = layers.Conv2D(filters=filters, kernel_size=(3, 3), activation='relu')(inputs)\n",
    "    feature_map = layers.MaxPooling2D(pool_size=(2, 2))(cvl_layers)\n",
    "    \n",
    "    # Flatten layer\n",
    "    vectors = layers.Flatten()(feature_map)\n",
    "    \n",
    "    # Dense layers\n",
    "    dense_layers = layers.Dense(dense_inner_size, activation='relu')(vectors)\n",
    "    \n",
    "    # Output layer for binary classification\n",
    "    outputs = layers.Dense(1, activation='sigmoid')(dense_layers)\n",
    "    \n",
    "    # Model construction\n",
    "    model = keras.Model(inputs, outputs)\n",
    "    \n",
    "    # Optimizer and compiling the model\n",
    "    optimizer = optimizers.SGD(learning_rate=lr, momentum=momentum)\n",
    "    model.compile(\n",
    "        optimizer=optimizer,\n",
    "        loss=loss,\n",
    "        metrics=['accuracy']\n",
    "    )\n",
    "    \n",
    "    return model"
   ]
  },
  {
   "cell_type": "code",
   "execution_count": 58,
   "metadata": {
    "execution": {
     "iopub.execute_input": "2024-12-02T13:15:20.645051Z",
     "iopub.status.busy": "2024-12-02T13:15:20.644845Z",
     "iopub.status.idle": "2024-12-02T13:15:20.679946Z",
     "shell.execute_reply": "2024-12-02T13:15:20.679372Z",
     "shell.execute_reply.started": "2024-12-02T13:15:20.645033Z"
    }
   },
   "outputs": [],
   "source": [
    "model = make_model()"
   ]
  },
  {
   "cell_type": "code",
   "execution_count": 59,
   "metadata": {
    "execution": {
     "iopub.execute_input": "2024-12-02T13:15:20.681295Z",
     "iopub.status.busy": "2024-12-02T13:15:20.680930Z",
     "iopub.status.idle": "2024-12-02T13:15:20.697348Z",
     "shell.execute_reply": "2024-12-02T13:15:20.696664Z",
     "shell.execute_reply.started": "2024-12-02T13:15:20.681263Z"
    },
    "tags": []
   },
   "outputs": [
    {
     "name": "stdout",
     "output_type": "stream",
     "text": [
      "Model: \"model_10\"\n",
      "_________________________________________________________________\n",
      " Layer (type)                Output Shape              Param #   \n",
      "=================================================================\n",
      " input_12 (InputLayer)       [(None, 200, 200, 3)]     0         \n",
      "                                                                 \n",
      " conv2d_13 (Conv2D)          (None, 198, 198, 32)      896       \n",
      "                                                                 \n",
      " max_pooling2d_13 (MaxPoolin  (None, 99, 99, 32)       0         \n",
      " g2D)                                                            \n",
      "                                                                 \n",
      " flatten_13 (Flatten)        (None, 313632)            0         \n",
      "                                                                 \n",
      " dense_24 (Dense)            (None, 64)                20072512  \n",
      "                                                                 \n",
      " dense_25 (Dense)            (None, 1)                 65        \n",
      "                                                                 \n",
      "=================================================================\n",
      "Total params: 20,073,473\n",
      "Trainable params: 20,073,473\n",
      "Non-trainable params: 0\n",
      "_________________________________________________________________\n"
     ]
    }
   ],
   "source": [
    "model.summary()"
   ]
  },
  {
   "cell_type": "code",
   "execution_count": 60,
   "metadata": {
    "execution": {
     "iopub.execute_input": "2024-12-02T13:15:20.699891Z",
     "iopub.status.busy": "2024-12-02T13:15:20.699348Z",
     "iopub.status.idle": "2024-12-02T13:15:20.736443Z",
     "shell.execute_reply": "2024-12-02T13:15:20.735681Z",
     "shell.execute_reply.started": "2024-12-02T13:15:20.699860Z"
    }
   },
   "outputs": [
    {
     "name": "stdout",
     "output_type": "stream",
     "text": [
      "Found 800 images belonging to 2 classes.\n",
      "Found 201 images belonging to 2 classes.\n"
     ]
    }
   ],
   "source": [
    "train_gen = ImageDataGenerator(rescale=1./255)\n",
    "\n",
    "\n",
    "train_ds = train_gen.flow_from_directory(\n",
    "    './data/train',\n",
    "    target_size=(200, 200), # Size of the image\n",
    "    class_mode = 'binary',\n",
    "    shuffle=True,\n",
    "    batch_size=20  # How many image at once we need\n",
    ")\n",
    "test_gen = ImageDataGenerator(rescale=1./255)\n",
    "test_ds = test_gen.flow_from_directory(\n",
    "    './data/test',\n",
    "    target_size=(200, 200), # Size of the image\n",
    "    class_mode = 'binary',\n",
    "    shuffle=True,\n",
    "    batch_size=20  # How many image at once we need\n",
    ")"
   ]
  },
  {
   "cell_type": "code",
   "execution_count": 61,
   "metadata": {
    "execution": {
     "iopub.execute_input": "2024-12-02T13:15:20.737481Z",
     "iopub.status.busy": "2024-12-02T13:15:20.737242Z",
     "iopub.status.idle": "2024-12-02T13:16:45.092912Z",
     "shell.execute_reply": "2024-12-02T13:16:45.092243Z",
     "shell.execute_reply.started": "2024-12-02T13:15:20.737462Z"
    },
    "tags": []
   },
   "outputs": [
    {
     "name": "stdout",
     "output_type": "stream",
     "text": [
      "Epoch 1/10\n",
      "40/40 [==============================] - 9s 212ms/step - loss: 0.7177 - accuracy: 0.5375 - val_loss: 0.6527 - val_accuracy: 0.5871\n",
      "Epoch 2/10\n",
      "40/40 [==============================] - 8s 201ms/step - loss: 0.6184 - accuracy: 0.6475 - val_loss: 0.6283 - val_accuracy: 0.6318\n",
      "Epoch 3/10\n",
      "40/40 [==============================] - 8s 210ms/step - loss: 0.5833 - accuracy: 0.6888 - val_loss: 0.6189 - val_accuracy: 0.6617\n",
      "Epoch 4/10\n",
      "40/40 [==============================] - 8s 211ms/step - loss: 0.5831 - accuracy: 0.6888 - val_loss: 0.6168 - val_accuracy: 0.6368\n",
      "Epoch 5/10\n",
      "40/40 [==============================] - 8s 208ms/step - loss: 0.5478 - accuracy: 0.7175 - val_loss: 0.6168 - val_accuracy: 0.6418\n",
      "Epoch 6/10\n",
      "40/40 [==============================] - 8s 210ms/step - loss: 0.5242 - accuracy: 0.7412 - val_loss: 0.6650 - val_accuracy: 0.6368\n",
      "Epoch 7/10\n",
      "40/40 [==============================] - 8s 207ms/step - loss: 0.5125 - accuracy: 0.7412 - val_loss: 0.6056 - val_accuracy: 0.6418\n",
      "Epoch 8/10\n",
      "40/40 [==============================] - 8s 208ms/step - loss: 0.4929 - accuracy: 0.7713 - val_loss: 0.5982 - val_accuracy: 0.6667\n",
      "Epoch 9/10\n",
      "40/40 [==============================] - 8s 209ms/step - loss: 0.4856 - accuracy: 0.7725 - val_loss: 0.6932 - val_accuracy: 0.6169\n",
      "Epoch 10/10\n",
      "40/40 [==============================] - 8s 210ms/step - loss: 0.4539 - accuracy: 0.7825 - val_loss: 0.5839 - val_accuracy: 0.6716\n"
     ]
    }
   ],
   "source": [
    "model = make_model()\n",
    "history = model.fit(\n",
    "    train_ds,\n",
    "    epochs=10,\n",
    "    validation_data=test_ds\n",
    ")"
   ]
  },
  {
   "cell_type": "code",
   "execution_count": 64,
   "metadata": {
    "execution": {
     "iopub.execute_input": "2024-12-02T13:44:22.688776Z",
     "iopub.status.busy": "2024-12-02T13:44:22.688374Z",
     "iopub.status.idle": "2024-12-02T13:44:22.693812Z",
     "shell.execute_reply": "2024-12-02T13:44:22.693188Z",
     "shell.execute_reply.started": "2024-12-02T13:44:22.688750Z"
    },
    "tags": []
   },
   "outputs": [
    {
     "data": {
      "text/plain": [
       "0.7293749749660492"
      ]
     },
     "execution_count": 64,
     "metadata": {},
     "output_type": "execute_result"
    }
   ],
   "source": [
    "np.median(history.history['accuracy'])"
   ]
  },
  {
   "cell_type": "code",
   "execution_count": 63,
   "metadata": {
    "execution": {
     "iopub.execute_input": "2024-12-02T13:16:45.101556Z",
     "iopub.status.busy": "2024-12-02T13:16:45.101244Z",
     "iopub.status.idle": "2024-12-02T13:16:45.107208Z",
     "shell.execute_reply": "2024-12-02T13:16:45.106210Z",
     "shell.execute_reply.started": "2024-12-02T13:16:45.101536Z"
    },
    "tags": []
   },
   "outputs": [
    {
     "data": {
      "text/plain": [
       "0.07327200425326183"
      ]
     },
     "execution_count": 63,
     "metadata": {},
     "output_type": "execute_result"
    }
   ],
   "source": [
    "np.std(history.history['loss'])\n"
   ]
  }
 ],
 "metadata": {
  "kernelspec": {
   "display_name": "saturn (Python 3)",
   "language": "python",
   "name": "python3"
  },
  "language_info": {
   "codemirror_mode": {
    "name": "ipython",
    "version": 3
   },
   "file_extension": ".py",
   "mimetype": "text/x-python",
   "name": "python",
   "nbconvert_exporter": "python",
   "pygments_lexer": "ipython3",
   "version": "3.9.13"
  }
 },
 "nbformat": 4,
 "nbformat_minor": 4
}
