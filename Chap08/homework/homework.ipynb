{
 "cells": [
  {
   "cell_type": "code",
   "execution_count": 18,
   "metadata": {
    "execution": {
     "iopub.execute_input": "2024-12-02T12:41:49.867380Z",
     "iopub.status.busy": "2024-12-02T12:41:49.866975Z",
     "iopub.status.idle": "2024-12-02T12:41:49.871805Z",
     "shell.execute_reply": "2024-12-02T12:41:49.870993Z",
     "shell.execute_reply.started": "2024-12-02T12:41:49.867353Z"
    },
    "tags": []
   },
   "outputs": [],
   "source": [
    "import numpy as np\n",
    "import tensorflow as tf\n",
    "\n",
    "from tensorflow import keras\n",
    "from tensorflow.keras import layers, models, losses, optimizers\n",
    "SEED = 42\n",
    "np.random.seed(SEED)\n",
    "tf.random.set_seed(SEED)"
   ]
  },
  {
   "cell_type": "code",
   "execution_count": 19,
   "metadata": {
    "execution": {
     "iopub.execute_input": "2024-12-02T12:41:49.873522Z",
     "iopub.status.busy": "2024-12-02T12:41:49.873196Z",
     "iopub.status.idle": "2024-12-02T12:41:49.924599Z",
     "shell.execute_reply": "2024-12-02T12:41:49.923898Z",
     "shell.execute_reply.started": "2024-12-02T12:41:49.873502Z"
    }
   },
   "outputs": [
    {
     "name": "stdout",
     "output_type": "stream",
     "text": [
      "Found 800 images belonging to 2 classes.\n",
      "Found 800 images belonging to 2 classes.\n"
     ]
    }
   ],
   "source": [
    "train_gen = ImageDataGenerator(\n",
    "    preprocessing_function=preprocess_input\n",
    ")\n",
    "\n",
    "train_ds = train_gen.flow_from_directory(\n",
    "    './data/train/',\n",
    "    target_size=(200, 200), # Size of the image\n",
    "    batch_size=32  # How many image at once we need\n",
    ")\n",
    "\n",
    "test_gen = ImageDataGenerator(preprocessing_function=preprocess_input)\n",
    "\n",
    "test_ds = test_gen.flow_from_directory(\n",
    "    './data/train/',\n",
    "    target_size=(200, 200), # Size of the image\n",
    "    batch_size=32  # How many image at once we need\n",
    ")"
   ]
  },
  {
   "cell_type": "code",
   "execution_count": null,
   "metadata": {
    "execution": {
     "iopub.execute_input": "2024-12-02T12:41:49.925759Z",
     "iopub.status.busy": "2024-12-02T12:41:49.925377Z",
     "iopub.status.idle": "2024-12-02T12:41:49.931050Z",
     "shell.execute_reply": "2024-12-02T12:41:49.930166Z",
     "shell.execute_reply.started": "2024-12-02T12:41:49.925738Z"
    }
   },
   "outputs": [],
   "source": [
    "def make_model(\n",
    "                filters = 32,\n",
    "                dense_inner_size = 64,\n",
    "                lr = 0.002,\n",
    "                momentum = 0.8,\n",
    "                loss = tf.keras.losses.BinaryCrossentropy()\n",
    "                ):\n",
    "    inputs = keras.Input(shape=(200, 200, 3))\n",
    "    \n",
    "    # Convolutional layers\n",
    "    cvl_layers = Conv2D(filters=filters, kernel_size=(3, 3), activation='relu')(inputs)\n",
    "    feature_map = MaxPooling2D(pool_size=(2, 2))(cvl_layers)\n",
    "    \n",
    "    # Flatten layer\n",
    "    vectors = Flatten()(feature_map)\n",
    "    \n",
    "    # Dense layers\n",
    "    dense_layers = Dense(dense_inner_size, activation='relu')(vectors)\n",
    "    \n",
    "    # Output layer for binary classification\n",
    "    outputs = Dense(1, activation='sigmoid')(dense_layers)\n",
    "    \n",
    "    # Model construction\n",
    "    model = keras.Model(inputs, outputs)\n",
    "    \n",
    "    # Optimizer and compiling the model\n",
    "    optimizer = SGD(learning_rate=lr, momentum=momentum)\n",
    "    model.compile(\n",
    "        optimizer=optimizer,\n",
    "        loss=loss,\n",
    "        metrics=['accuracy']\n",
    "    )\n",
    "    \n",
    "    return model"
   ]
  },
  {
   "cell_type": "code",
   "execution_count": 21,
   "metadata": {
    "execution": {
     "iopub.execute_input": "2024-12-02T12:41:49.932264Z",
     "iopub.status.busy": "2024-12-02T12:41:49.932008Z",
     "iopub.status.idle": "2024-12-02T12:41:49.967186Z",
     "shell.execute_reply": "2024-12-02T12:41:49.966644Z",
     "shell.execute_reply.started": "2024-12-02T12:41:49.932244Z"
    }
   },
   "outputs": [],
   "source": [
    "model = make_model()"
   ]
  },
  {
   "cell_type": "code",
   "execution_count": 22,
   "metadata": {
    "execution": {
     "iopub.execute_input": "2024-12-02T12:41:57.891480Z",
     "iopub.status.busy": "2024-12-02T12:41:57.891089Z",
     "iopub.status.idle": "2024-12-02T12:41:57.907179Z",
     "shell.execute_reply": "2024-12-02T12:41:57.906531Z",
     "shell.execute_reply.started": "2024-12-02T12:41:57.891455Z"
    },
    "tags": []
   },
   "outputs": [
    {
     "name": "stdout",
     "output_type": "stream",
     "text": [
      "Model: \"sequential_2\"\n",
      "_________________________________________________________________\n",
      " Layer (type)                Output Shape              Param #   \n",
      "=================================================================\n",
      " conv2d_4 (Conv2D)           (None, 198, 198, 32)      896       \n",
      "                                                                 \n",
      " max_pooling2d_4 (MaxPooling  (None, 99, 99, 32)       0         \n",
      " 2D)                                                             \n",
      "                                                                 \n",
      " flatten_4 (Flatten)         (None, 313632)            0         \n",
      "                                                                 \n",
      " dense_8 (Dense)             (None, 64)                20072512  \n",
      "                                                                 \n",
      " dense_9 (Dense)             (None, 1)                 65        \n",
      "                                                                 \n",
      "=================================================================\n",
      "Total params: 20,073,473\n",
      "Trainable params: 20,073,473\n",
      "Non-trainable params: 0\n",
      "_________________________________________________________________\n"
     ]
    }
   ],
   "source": [
    "model.summary()"
   ]
  },
  {
   "cell_type": "code",
   "execution_count": null,
   "metadata": {},
   "outputs": [],
   "source": []
  }
 ],
 "metadata": {
  "kernelspec": {
   "display_name": "saturn (Python 3)",
   "language": "python",
   "name": "python3"
  },
  "language_info": {
   "codemirror_mode": {
    "name": "ipython",
    "version": 3
   },
   "file_extension": ".py",
   "mimetype": "text/x-python",
   "name": "python",
   "nbconvert_exporter": "python",
   "pygments_lexer": "ipython3",
   "version": "3.9.13"
  }
 },
 "nbformat": 4,
 "nbformat_minor": 4
}
