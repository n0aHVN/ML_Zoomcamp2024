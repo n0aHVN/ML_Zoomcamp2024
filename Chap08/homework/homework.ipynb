{
 "cells": [
  {
   "cell_type": "code",
   "execution_count": 1,
   "metadata": {
    "execution": {
     "iopub.execute_input": "2024-12-02T14:23:36.507897Z",
     "iopub.status.busy": "2024-12-02T14:23:36.507469Z",
     "iopub.status.idle": "2024-12-02T14:23:38.351604Z",
     "shell.execute_reply": "2024-12-02T14:23:38.350998Z",
     "shell.execute_reply.started": "2024-12-02T14:23:36.507827Z"
    },
    "tags": []
   },
   "outputs": [
    {
     "name": "stderr",
     "output_type": "stream",
     "text": [
      "2024-12-02 14:23:36.731091: I tensorflow/core/util/util.cc:169] oneDNN custom operations are on. You may see slightly different numerical results due to floating-point round-off errors from different computation orders. To turn them off, set the environment variable `TF_ENABLE_ONEDNN_OPTS=0`.\n"
     ]
    }
   ],
   "source": [
    "import numpy as np\n",
    "import tensorflow as tf\n",
    "\n",
    "from tensorflow import keras\n",
    "from tensorflow.keras import layers, models, losses, optimizers\n",
    "from tensorflow.keras.preprocessing.image import ImageDataGenerator\n",
    "SEED = 42\n",
    "np.random.seed(SEED)\n",
    "tf.random.set_seed(SEED)"
   ]
  },
  {
   "cell_type": "markdown",
   "metadata": {},
   "source": [
    "# Question 1"
   ]
  },
  {
   "cell_type": "code",
   "execution_count": 2,
   "metadata": {
    "execution": {
     "iopub.execute_input": "2024-12-02T14:23:38.353505Z",
     "iopub.status.busy": "2024-12-02T14:23:38.353008Z",
     "iopub.status.idle": "2024-12-02T14:23:38.359696Z",
     "shell.execute_reply": "2024-12-02T14:23:38.358918Z",
     "shell.execute_reply.started": "2024-12-02T14:23:38.353481Z"
    }
   },
   "outputs": [],
   "source": [
    "def make_model(\n",
    "                filters = 32,\n",
    "                dense_inner_size = 64,\n",
    "                lr = 0.002,\n",
    "                momentum = 0.8,\n",
    "                loss = tf.keras.losses.BinaryCrossentropy()\n",
    "                ):\n",
    "    inputs = keras.Input(shape=(200, 200, 3))\n",
    "    \n",
    "    # Convolutional layers\n",
    "    cvl_layers = layers.Conv2D(filters=filters, kernel_size=(3, 3), activation='relu')(inputs)\n",
    "    feature_map = layers.MaxPooling2D(pool_size=(2, 2))(cvl_layers)\n",
    "    \n",
    "    # Flatten layer\n",
    "    vectors = layers.Flatten()(feature_map)\n",
    "    \n",
    "    # Dense layers\n",
    "    dense_layers = layers.Dense(dense_inner_size, activation='relu')(vectors)\n",
    "    \n",
    "    # Output layer for binary classification\n",
    "    outputs = layers.Dense(1, activation='sigmoid')(dense_layers)\n",
    "    \n",
    "    # Model construction\n",
    "    model = keras.Model(inputs, outputs)\n",
    "    \n",
    "    # Optimizer and compiling the model\n",
    "    optimizer = optimizers.SGD(learning_rate=lr, momentum=momentum)\n",
    "    model.compile(\n",
    "        optimizer=optimizer,\n",
    "        loss=loss,\n",
    "        metrics=['accuracy']\n",
    "    )\n",
    "    \n",
    "    return model"
   ]
  },
  {
   "cell_type": "code",
   "execution_count": 3,
   "metadata": {
    "execution": {
     "iopub.execute_input": "2024-12-02T14:23:38.360930Z",
     "iopub.status.busy": "2024-12-02T14:23:38.360679Z",
     "iopub.status.idle": "2024-12-02T14:23:39.366916Z",
     "shell.execute_reply": "2024-12-02T14:23:39.365970Z",
     "shell.execute_reply.started": "2024-12-02T14:23:38.360910Z"
    }
   },
   "outputs": [
    {
     "name": "stderr",
     "output_type": "stream",
     "text": [
      "2024-12-02 14:23:38.413991: I tensorflow/stream_executor/cuda/cuda_gpu_executor.cc:975] successful NUMA node read from SysFS had negative value (-1), but there must be at least one NUMA node, so returning NUMA node zero\n",
      "2024-12-02 14:23:38.420564: I tensorflow/stream_executor/cuda/cuda_gpu_executor.cc:975] successful NUMA node read from SysFS had negative value (-1), but there must be at least one NUMA node, so returning NUMA node zero\n",
      "2024-12-02 14:23:38.420762: I tensorflow/stream_executor/cuda/cuda_gpu_executor.cc:975] successful NUMA node read from SysFS had negative value (-1), but there must be at least one NUMA node, so returning NUMA node zero\n",
      "2024-12-02 14:23:38.421210: I tensorflow/core/platform/cpu_feature_guard.cc:193] This TensorFlow binary is optimized with oneAPI Deep Neural Network Library (oneDNN) to use the following CPU instructions in performance-critical operations:  AVX2 AVX512F AVX512_VNNI FMA\n",
      "To enable them in other operations, rebuild TensorFlow with the appropriate compiler flags.\n",
      "2024-12-02 14:23:38.421587: I tensorflow/stream_executor/cuda/cuda_gpu_executor.cc:975] successful NUMA node read from SysFS had negative value (-1), but there must be at least one NUMA node, so returning NUMA node zero\n",
      "2024-12-02 14:23:38.421773: I tensorflow/stream_executor/cuda/cuda_gpu_executor.cc:975] successful NUMA node read from SysFS had negative value (-1), but there must be at least one NUMA node, so returning NUMA node zero\n",
      "2024-12-02 14:23:38.421917: I tensorflow/stream_executor/cuda/cuda_gpu_executor.cc:975] successful NUMA node read from SysFS had negative value (-1), but there must be at least one NUMA node, so returning NUMA node zero\n",
      "2024-12-02 14:23:39.048475: I tensorflow/stream_executor/cuda/cuda_gpu_executor.cc:975] successful NUMA node read from SysFS had negative value (-1), but there must be at least one NUMA node, so returning NUMA node zero\n",
      "2024-12-02 14:23:39.048693: I tensorflow/stream_executor/cuda/cuda_gpu_executor.cc:975] successful NUMA node read from SysFS had negative value (-1), but there must be at least one NUMA node, so returning NUMA node zero\n",
      "2024-12-02 14:23:39.048847: I tensorflow/stream_executor/cuda/cuda_gpu_executor.cc:975] successful NUMA node read from SysFS had negative value (-1), but there must be at least one NUMA node, so returning NUMA node zero\n",
      "2024-12-02 14:23:39.048974: I tensorflow/core/common_runtime/gpu/gpu_device.cc:1532] Created device /job:localhost/replica:0/task:0/device:GPU:0 with 13790 MB memory:  -> device: 0, name: Tesla T4, pci bus id: 0000:00:1e.0, compute capability: 7.5\n"
     ]
    }
   ],
   "source": [
    "model = make_model()"
   ]
  },
  {
   "cell_type": "markdown",
   "metadata": {},
   "source": [
    "# Question 2"
   ]
  },
  {
   "cell_type": "code",
   "execution_count": 4,
   "metadata": {
    "execution": {
     "iopub.execute_input": "2024-12-02T14:23:39.368694Z",
     "iopub.status.busy": "2024-12-02T14:23:39.368102Z",
     "iopub.status.idle": "2024-12-02T14:23:39.386296Z",
     "shell.execute_reply": "2024-12-02T14:23:39.385456Z",
     "shell.execute_reply.started": "2024-12-02T14:23:39.368658Z"
    },
    "tags": []
   },
   "outputs": [
    {
     "name": "stdout",
     "output_type": "stream",
     "text": [
      "Model: \"model\"\n",
      "_________________________________________________________________\n",
      " Layer (type)                Output Shape              Param #   \n",
      "=================================================================\n",
      " input_1 (InputLayer)        [(None, 200, 200, 3)]     0         \n",
      "                                                                 \n",
      " conv2d (Conv2D)             (None, 198, 198, 32)      896       \n",
      "                                                                 \n",
      " max_pooling2d (MaxPooling2D  (None, 99, 99, 32)       0         \n",
      " )                                                               \n",
      "                                                                 \n",
      " flatten (Flatten)           (None, 313632)            0         \n",
      "                                                                 \n",
      " dense (Dense)               (None, 64)                20072512  \n",
      "                                                                 \n",
      " dense_1 (Dense)             (None, 1)                 65        \n",
      "                                                                 \n",
      "=================================================================\n",
      "Total params: 20,073,473\n",
      "Trainable params: 20,073,473\n",
      "Non-trainable params: 0\n",
      "_________________________________________________________________\n"
     ]
    }
   ],
   "source": [
    "model.summary()"
   ]
  },
  {
   "cell_type": "code",
   "execution_count": 5,
   "metadata": {
    "execution": {
     "iopub.execute_input": "2024-12-02T14:23:39.387327Z",
     "iopub.status.busy": "2024-12-02T14:23:39.387117Z",
     "iopub.status.idle": "2024-12-02T14:23:39.422889Z",
     "shell.execute_reply": "2024-12-02T14:23:39.422313Z",
     "shell.execute_reply.started": "2024-12-02T14:23:39.387309Z"
    }
   },
   "outputs": [
    {
     "name": "stdout",
     "output_type": "stream",
     "text": [
      "Found 800 images belonging to 2 classes.\n",
      "Found 201 images belonging to 2 classes.\n"
     ]
    }
   ],
   "source": [
    "train_gen = ImageDataGenerator(rescale=1./255)\n",
    "\n",
    "\n",
    "train_ds = train_gen.flow_from_directory(\n",
    "    './data/train',\n",
    "    target_size=(200, 200), # Size of the image\n",
    "    class_mode = 'binary',\n",
    "    shuffle=True,\n",
    "    batch_size=20  # How many image at once we need\n",
    ")\n",
    "test_gen = ImageDataGenerator(rescale=1./255)\n",
    "test_ds = test_gen.flow_from_directory(\n",
    "    './data/test',\n",
    "    target_size=(200, 200), # Size of the image\n",
    "    class_mode = 'binary',\n",
    "    shuffle=True,\n",
    "    batch_size=20  # How many image at once we need\n",
    ")"
   ]
  },
  {
   "cell_type": "code",
   "execution_count": 6,
   "metadata": {
    "execution": {
     "iopub.execute_input": "2024-12-02T14:23:39.423932Z",
     "iopub.status.busy": "2024-12-02T14:23:39.423655Z",
     "iopub.status.idle": "2024-12-02T14:25:05.427517Z",
     "shell.execute_reply": "2024-12-02T14:25:05.426887Z",
     "shell.execute_reply.started": "2024-12-02T14:23:39.423914Z"
    },
    "tags": []
   },
   "outputs": [
    {
     "name": "stdout",
     "output_type": "stream",
     "text": [
      "Epoch 1/10\n"
     ]
    },
    {
     "name": "stderr",
     "output_type": "stream",
     "text": [
      "2024-12-02 14:23:40.978129: I tensorflow/stream_executor/cuda/cuda_dnn.cc:384] Loaded cuDNN version 8100\n",
      "2024-12-02 14:23:41.639910: I tensorflow/core/platform/default/subprocess.cc:304] Start cannot spawn child process: No such file or directory\n",
      "2024-12-02 14:23:41.640716: I tensorflow/core/platform/default/subprocess.cc:304] Start cannot spawn child process: No such file or directory\n",
      "2024-12-02 14:23:41.640759: W tensorflow/stream_executor/gpu/asm_compiler.cc:80] Couldn't get ptxas version string: INTERNAL: Couldn't invoke ptxas --version\n",
      "2024-12-02 14:23:41.641461: I tensorflow/core/platform/default/subprocess.cc:304] Start cannot spawn child process: No such file or directory\n",
      "2024-12-02 14:23:41.641556: W tensorflow/stream_executor/gpu/redzone_allocator.cc:314] INTERNAL: Failed to launch ptxas\n",
      "Relying on driver to perform ptx compilation. \n",
      "Modify $PATH to customize ptxas location.\n",
      "This message will be only logged once.\n"
     ]
    },
    {
     "name": "stdout",
     "output_type": "stream",
     "text": [
      "40/40 [==============================] - 11s 207ms/step - loss: 0.6815 - accuracy: 0.5738 - val_loss: 0.6486 - val_accuracy: 0.6119\n",
      "Epoch 2/10\n",
      "40/40 [==============================] - 8s 208ms/step - loss: 0.6211 - accuracy: 0.6562 - val_loss: 0.6562 - val_accuracy: 0.5821\n",
      "Epoch 3/10\n",
      "40/40 [==============================] - 8s 204ms/step - loss: 0.5891 - accuracy: 0.6750 - val_loss: 0.6221 - val_accuracy: 0.6318\n",
      "Epoch 4/10\n",
      "40/40 [==============================] - 8s 200ms/step - loss: 0.5660 - accuracy: 0.6800 - val_loss: 0.6195 - val_accuracy: 0.6517\n",
      "Epoch 5/10\n",
      "40/40 [==============================] - 8s 205ms/step - loss: 0.5541 - accuracy: 0.7038 - val_loss: 0.6401 - val_accuracy: 0.6269\n",
      "Epoch 6/10\n",
      "40/40 [==============================] - 8s 210ms/step - loss: 0.5606 - accuracy: 0.7088 - val_loss: 0.6046 - val_accuracy: 0.6617\n",
      "Epoch 7/10\n",
      "40/40 [==============================] - 8s 208ms/step - loss: 0.5096 - accuracy: 0.7450 - val_loss: 0.6029 - val_accuracy: 0.6567\n",
      "Epoch 8/10\n",
      "40/40 [==============================] - 8s 212ms/step - loss: 0.5017 - accuracy: 0.7613 - val_loss: 0.6010 - val_accuracy: 0.6716\n",
      "Epoch 9/10\n",
      "40/40 [==============================] - 8s 209ms/step - loss: 0.4901 - accuracy: 0.7550 - val_loss: 0.6063 - val_accuracy: 0.6667\n",
      "Epoch 10/10\n",
      "40/40 [==============================] - 8s 208ms/step - loss: 0.4636 - accuracy: 0.7887 - val_loss: 0.5866 - val_accuracy: 0.6716\n"
     ]
    }
   ],
   "source": [
    "model = make_model()\n",
    "history = model.fit(\n",
    "    train_ds,\n",
    "    epochs=10,\n",
    "    validation_data=test_ds\n",
    ")"
   ]
  },
  {
   "cell_type": "markdown",
   "metadata": {},
   "source": [
    "# Question 3"
   ]
  },
  {
   "cell_type": "code",
   "execution_count": 7,
   "metadata": {
    "execution": {
     "iopub.execute_input": "2024-12-02T14:25:05.430619Z",
     "iopub.status.busy": "2024-12-02T14:25:05.430193Z",
     "iopub.status.idle": "2024-12-02T14:25:05.440680Z",
     "shell.execute_reply": "2024-12-02T14:25:05.439976Z",
     "shell.execute_reply.started": "2024-12-02T14:25:05.430584Z"
    },
    "tags": []
   },
   "outputs": [
    {
     "data": {
      "text/plain": [
       "0.706250011920929"
      ]
     },
     "execution_count": 7,
     "metadata": {},
     "output_type": "execute_result"
    }
   ],
   "source": [
    "np.median(history.history['accuracy'])"
   ]
  },
  {
   "cell_type": "markdown",
   "metadata": {},
   "source": [
    "# Question 4"
   ]
  },
  {
   "cell_type": "code",
   "execution_count": 8,
   "metadata": {
    "execution": {
     "iopub.execute_input": "2024-12-02T14:25:05.442242Z",
     "iopub.status.busy": "2024-12-02T14:25:05.441667Z",
     "iopub.status.idle": "2024-12-02T14:25:05.449892Z",
     "shell.execute_reply": "2024-12-02T14:25:05.449322Z",
     "shell.execute_reply.started": "2024-12-02T14:25:05.442210Z"
    },
    "tags": []
   },
   "outputs": [
    {
     "data": {
      "text/plain": [
       "0.06256396485111168"
      ]
     },
     "execution_count": 8,
     "metadata": {},
     "output_type": "execute_result"
    }
   ],
   "source": [
    "np.std(history.history['loss'])\n"
   ]
  },
  {
   "cell_type": "markdown",
   "metadata": {},
   "source": [
    "# Question 5"
   ]
  },
  {
   "cell_type": "code",
   "execution_count": 9,
   "metadata": {
    "execution": {
     "iopub.execute_input": "2024-12-02T14:25:05.451252Z",
     "iopub.status.busy": "2024-12-02T14:25:05.450623Z",
     "iopub.status.idle": "2024-12-02T14:25:05.488962Z",
     "shell.execute_reply": "2024-12-02T14:25:05.488305Z",
     "shell.execute_reply.started": "2024-12-02T14:25:05.451229Z"
    },
    "tags": []
   },
   "outputs": [
    {
     "name": "stdout",
     "output_type": "stream",
     "text": [
      "Found 800 images belonging to 2 classes.\n",
      "Found 201 images belonging to 2 classes.\n"
     ]
    }
   ],
   "source": [
    "train_gen = ImageDataGenerator(\n",
    "    rescale=1./255,\n",
    "    rotation_range=50,\n",
    "    width_shift_range=0.1,\n",
    "    height_shift_range=0.1,\n",
    "    zoom_range=0.1,\n",
    "    horizontal_flip=True,\n",
    "    fill_mode='nearest'\n",
    ")\n",
    "\n",
    "\n",
    "train_ds = train_gen.flow_from_directory(\n",
    "    './data/train',\n",
    "    target_size=(200, 200), # Size of the image\n",
    "    class_mode = 'binary',\n",
    "    shuffle=True,\n",
    "    batch_size=20  # How many image at once we need\n",
    ")\n",
    "\n",
    "test_gen = ImageDataGenerator(rescale=1./255)\n",
    "test_ds = test_gen.flow_from_directory(\n",
    "    './data/test',\n",
    "    target_size=(200, 200), # Size of the image\n",
    "    class_mode = 'binary',\n",
    "    shuffle=True,\n",
    "    batch_size=20  # How many image at once we need\n",
    ")"
   ]
  },
  {
   "cell_type": "code",
   "execution_count": 10,
   "metadata": {
    "execution": {
     "iopub.execute_input": "2024-12-02T14:25:05.490568Z",
     "iopub.status.busy": "2024-12-02T14:25:05.489965Z",
     "iopub.status.idle": "2024-12-02T14:27:25.298173Z",
     "shell.execute_reply": "2024-12-02T14:27:25.297567Z",
     "shell.execute_reply.started": "2024-12-02T14:25:05.490537Z"
    },
    "tags": []
   },
   "outputs": [
    {
     "name": "stdout",
     "output_type": "stream",
     "text": [
      "Epoch 1/10\n",
      "40/40 [==============================] - 14s 351ms/step - loss: 0.6397 - accuracy: 0.6388 - val_loss: 0.5902 - val_accuracy: 0.7214\n",
      "Epoch 2/10\n",
      "40/40 [==============================] - 14s 350ms/step - loss: 0.5974 - accuracy: 0.6800 - val_loss: 0.5755 - val_accuracy: 0.6766\n",
      "Epoch 3/10\n",
      "40/40 [==============================] - 14s 350ms/step - loss: 0.6098 - accuracy: 0.6575 - val_loss: 0.5796 - val_accuracy: 0.6915\n",
      "Epoch 4/10\n",
      "40/40 [==============================] - 14s 351ms/step - loss: 0.6069 - accuracy: 0.6550 - val_loss: 0.5647 - val_accuracy: 0.6965\n",
      "Epoch 5/10\n",
      "40/40 [==============================] - 14s 348ms/step - loss: 0.6077 - accuracy: 0.6712 - val_loss: 0.6141 - val_accuracy: 0.6667\n",
      "Epoch 6/10\n",
      "40/40 [==============================] - 14s 349ms/step - loss: 0.5996 - accuracy: 0.6675 - val_loss: 0.5597 - val_accuracy: 0.6965\n",
      "Epoch 7/10\n",
      "40/40 [==============================] - 14s 347ms/step - loss: 0.5815 - accuracy: 0.6812 - val_loss: 0.5743 - val_accuracy: 0.7015\n",
      "Epoch 8/10\n",
      "40/40 [==============================] - 14s 351ms/step - loss: 0.5890 - accuracy: 0.6850 - val_loss: 0.6203 - val_accuracy: 0.6816\n",
      "Epoch 9/10\n",
      "40/40 [==============================] - 14s 348ms/step - loss: 0.5741 - accuracy: 0.7025 - val_loss: 0.5514 - val_accuracy: 0.7114\n",
      "Epoch 10/10\n",
      "40/40 [==============================] - 14s 343ms/step - loss: 0.5830 - accuracy: 0.6963 - val_loss: 0.5419 - val_accuracy: 0.7413\n"
     ]
    }
   ],
   "source": [
    "history = model.fit(\n",
    "    train_ds,\n",
    "    epochs=10,\n",
    "    validation_data=test_ds\n",
    ")"
   ]
  },
  {
   "cell_type": "code",
   "execution_count": 11,
   "metadata": {
    "execution": {
     "iopub.execute_input": "2024-12-02T14:27:25.299389Z",
     "iopub.status.busy": "2024-12-02T14:27:25.299103Z",
     "iopub.status.idle": "2024-12-02T14:27:25.304436Z",
     "shell.execute_reply": "2024-12-02T14:27:25.303718Z",
     "shell.execute_reply.started": "2024-12-02T14:27:25.299367Z"
    },
    "tags": []
   },
   "outputs": [
    {
     "data": {
      "text/plain": [
       "0.5771657168865204"
      ]
     },
     "execution_count": 11,
     "metadata": {},
     "output_type": "execute_result"
    }
   ],
   "source": [
    "np.mean(history.history['val_loss'])"
   ]
  },
  {
   "cell_type": "code",
   "execution_count": 12,
   "metadata": {
    "execution": {
     "iopub.execute_input": "2024-12-02T14:27:25.306022Z",
     "iopub.status.busy": "2024-12-02T14:27:25.305649Z",
     "iopub.status.idle": "2024-12-02T14:27:25.311511Z",
     "shell.execute_reply": "2024-12-02T14:27:25.310749Z",
     "shell.execute_reply.started": "2024-12-02T14:27:25.305992Z"
    },
    "tags": []
   },
   "outputs": [
    {
     "data": {
      "text/plain": [
       "0.5695143103599548"
      ]
     },
     "execution_count": 12,
     "metadata": {},
     "output_type": "execute_result"
    }
   ],
   "source": [
    "np.average(history.history['val_loss'][-5:])"
   ]
  }
 ],
 "metadata": {
  "kernelspec": {
   "display_name": "saturn (Python 3)",
   "language": "python",
   "name": "python3"
  },
  "language_info": {
   "codemirror_mode": {
    "name": "ipython",
    "version": 3
   },
   "file_extension": ".py",
   "mimetype": "text/x-python",
   "name": "python",
   "nbconvert_exporter": "python",
   "pygments_lexer": "ipython3",
   "version": "3.9.13"
  }
 },
 "nbformat": 4,
 "nbformat_minor": 4
}
